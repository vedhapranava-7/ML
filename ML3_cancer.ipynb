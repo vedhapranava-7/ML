{
 "cells": [
  {
   "cell_type": "code",
   "execution_count": 17,
   "id": "632c147c-8712-4f7d-ae71-0c261d7df134",
   "metadata": {},
   "outputs": [],
   "source": [
    "import numpy as np\n",
    "import pandas as pd\n",
    "from sklearn.feature_extraction.text import TfidfVectorizer\n",
    "from sklearn.preprocessing import LabelEncoder\n",
    "from sklearn.decomposition import PCA\n",
    "import matplotlib.pyplot as plt"
   ]
  },
  {
   "cell_type": "code",
   "execution_count": 4,
   "id": "b1418c2e-f6e8-40d5-b3cc-c19763bc88ab",
   "metadata": {},
   "outputs": [
    {
     "name": "stdout",
     "output_type": "stream",
     "text": [
      "Requirement already satisfied: pandas in c:\\users\\vedha pranava\\appdata\\local\\programs\\python\\python312\\lib\\site-packages (2.2.2)\n",
      "Requirement already satisfied: numpy>=1.26.0 in c:\\users\\vedha pranava\\appdata\\local\\programs\\python\\python312\\lib\\site-packages (from pandas) (2.0.1)\n",
      "Requirement already satisfied: python-dateutil>=2.8.2 in c:\\users\\vedha pranava\\appdata\\local\\programs\\python\\python312\\lib\\site-packages (from pandas) (2.9.0.post0)\n",
      "Requirement already satisfied: pytz>=2020.1 in c:\\users\\vedha pranava\\appdata\\local\\programs\\python\\python312\\lib\\site-packages (from pandas) (2024.1)\n",
      "Requirement already satisfied: tzdata>=2022.7 in c:\\users\\vedha pranava\\appdata\\local\\programs\\python\\python312\\lib\\site-packages (from pandas) (2024.1)\n",
      "Requirement already satisfied: six>=1.5 in c:\\users\\vedha pranava\\appdata\\local\\programs\\python\\python312\\lib\\site-packages (from python-dateutil>=2.8.2->pandas) (1.16.0)\n"
     ]
    }
   ],
   "source": [
    "!pip install pandas\n",
    "\n"
   ]
  },
  {
   "cell_type": "code",
   "execution_count": 6,
   "id": "04d3f6a9-eddb-4ac1-ace0-1875de7c4c15",
   "metadata": {},
   "outputs": [
    {
     "data": {
      "text/html": [
       "<div>\n",
       "<style scoped>\n",
       "    .dataframe tbody tr th:only-of-type {\n",
       "        vertical-align: middle;\n",
       "    }\n",
       "\n",
       "    .dataframe tbody tr th {\n",
       "        vertical-align: top;\n",
       "    }\n",
       "\n",
       "    .dataframe thead th {\n",
       "        text-align: right;\n",
       "    }\n",
       "</style>\n",
       "<table border=\"1\" class=\"dataframe\">\n",
       "  <thead>\n",
       "    <tr style=\"text-align: right;\">\n",
       "      <th></th>\n",
       "      <th>id</th>\n",
       "      <th>diagnosis</th>\n",
       "      <th>radius_mean</th>\n",
       "      <th>texture_mean</th>\n",
       "      <th>perimeter_mean</th>\n",
       "      <th>area_mean</th>\n",
       "      <th>smoothness_mean</th>\n",
       "      <th>compactness_mean</th>\n",
       "      <th>concavity_mean</th>\n",
       "      <th>concave points_mean</th>\n",
       "      <th>...</th>\n",
       "      <th>texture_worst</th>\n",
       "      <th>perimeter_worst</th>\n",
       "      <th>area_worst</th>\n",
       "      <th>smoothness_worst</th>\n",
       "      <th>compactness_worst</th>\n",
       "      <th>concavity_worst</th>\n",
       "      <th>concave points_worst</th>\n",
       "      <th>symmetry_worst</th>\n",
       "      <th>fractal_dimension_worst</th>\n",
       "      <th>Unnamed: 32</th>\n",
       "    </tr>\n",
       "  </thead>\n",
       "  <tbody>\n",
       "    <tr>\n",
       "      <th>0</th>\n",
       "      <td>842302</td>\n",
       "      <td>M</td>\n",
       "      <td>17.99</td>\n",
       "      <td>10.38</td>\n",
       "      <td>122.80</td>\n",
       "      <td>1001.0</td>\n",
       "      <td>0.11840</td>\n",
       "      <td>0.27760</td>\n",
       "      <td>0.3001</td>\n",
       "      <td>0.14710</td>\n",
       "      <td>...</td>\n",
       "      <td>17.33</td>\n",
       "      <td>184.60</td>\n",
       "      <td>2019.0</td>\n",
       "      <td>0.1622</td>\n",
       "      <td>0.6656</td>\n",
       "      <td>0.7119</td>\n",
       "      <td>0.2654</td>\n",
       "      <td>0.4601</td>\n",
       "      <td>0.11890</td>\n",
       "      <td>NaN</td>\n",
       "    </tr>\n",
       "    <tr>\n",
       "      <th>1</th>\n",
       "      <td>842517</td>\n",
       "      <td>M</td>\n",
       "      <td>20.57</td>\n",
       "      <td>17.77</td>\n",
       "      <td>132.90</td>\n",
       "      <td>1326.0</td>\n",
       "      <td>0.08474</td>\n",
       "      <td>0.07864</td>\n",
       "      <td>0.0869</td>\n",
       "      <td>0.07017</td>\n",
       "      <td>...</td>\n",
       "      <td>23.41</td>\n",
       "      <td>158.80</td>\n",
       "      <td>1956.0</td>\n",
       "      <td>0.1238</td>\n",
       "      <td>0.1866</td>\n",
       "      <td>0.2416</td>\n",
       "      <td>0.1860</td>\n",
       "      <td>0.2750</td>\n",
       "      <td>0.08902</td>\n",
       "      <td>NaN</td>\n",
       "    </tr>\n",
       "    <tr>\n",
       "      <th>2</th>\n",
       "      <td>84300903</td>\n",
       "      <td>M</td>\n",
       "      <td>19.69</td>\n",
       "      <td>21.25</td>\n",
       "      <td>130.00</td>\n",
       "      <td>1203.0</td>\n",
       "      <td>0.10960</td>\n",
       "      <td>0.15990</td>\n",
       "      <td>0.1974</td>\n",
       "      <td>0.12790</td>\n",
       "      <td>...</td>\n",
       "      <td>25.53</td>\n",
       "      <td>152.50</td>\n",
       "      <td>1709.0</td>\n",
       "      <td>0.1444</td>\n",
       "      <td>0.4245</td>\n",
       "      <td>0.4504</td>\n",
       "      <td>0.2430</td>\n",
       "      <td>0.3613</td>\n",
       "      <td>0.08758</td>\n",
       "      <td>NaN</td>\n",
       "    </tr>\n",
       "    <tr>\n",
       "      <th>3</th>\n",
       "      <td>84348301</td>\n",
       "      <td>M</td>\n",
       "      <td>11.42</td>\n",
       "      <td>20.38</td>\n",
       "      <td>77.58</td>\n",
       "      <td>386.1</td>\n",
       "      <td>0.14250</td>\n",
       "      <td>0.28390</td>\n",
       "      <td>0.2414</td>\n",
       "      <td>0.10520</td>\n",
       "      <td>...</td>\n",
       "      <td>26.50</td>\n",
       "      <td>98.87</td>\n",
       "      <td>567.7</td>\n",
       "      <td>0.2098</td>\n",
       "      <td>0.8663</td>\n",
       "      <td>0.6869</td>\n",
       "      <td>0.2575</td>\n",
       "      <td>0.6638</td>\n",
       "      <td>0.17300</td>\n",
       "      <td>NaN</td>\n",
       "    </tr>\n",
       "    <tr>\n",
       "      <th>4</th>\n",
       "      <td>84358402</td>\n",
       "      <td>M</td>\n",
       "      <td>20.29</td>\n",
       "      <td>14.34</td>\n",
       "      <td>135.10</td>\n",
       "      <td>1297.0</td>\n",
       "      <td>0.10030</td>\n",
       "      <td>0.13280</td>\n",
       "      <td>0.1980</td>\n",
       "      <td>0.10430</td>\n",
       "      <td>...</td>\n",
       "      <td>16.67</td>\n",
       "      <td>152.20</td>\n",
       "      <td>1575.0</td>\n",
       "      <td>0.1374</td>\n",
       "      <td>0.2050</td>\n",
       "      <td>0.4000</td>\n",
       "      <td>0.1625</td>\n",
       "      <td>0.2364</td>\n",
       "      <td>0.07678</td>\n",
       "      <td>NaN</td>\n",
       "    </tr>\n",
       "    <tr>\n",
       "      <th>5</th>\n",
       "      <td>843786</td>\n",
       "      <td>M</td>\n",
       "      <td>12.45</td>\n",
       "      <td>15.70</td>\n",
       "      <td>82.57</td>\n",
       "      <td>477.1</td>\n",
       "      <td>0.12780</td>\n",
       "      <td>0.17000</td>\n",
       "      <td>0.1578</td>\n",
       "      <td>0.08089</td>\n",
       "      <td>...</td>\n",
       "      <td>23.75</td>\n",
       "      <td>103.40</td>\n",
       "      <td>741.6</td>\n",
       "      <td>0.1791</td>\n",
       "      <td>0.5249</td>\n",
       "      <td>0.5355</td>\n",
       "      <td>0.1741</td>\n",
       "      <td>0.3985</td>\n",
       "      <td>0.12440</td>\n",
       "      <td>NaN</td>\n",
       "    </tr>\n",
       "    <tr>\n",
       "      <th>6</th>\n",
       "      <td>844359</td>\n",
       "      <td>M</td>\n",
       "      <td>18.25</td>\n",
       "      <td>19.98</td>\n",
       "      <td>119.60</td>\n",
       "      <td>1040.0</td>\n",
       "      <td>0.09463</td>\n",
       "      <td>0.10900</td>\n",
       "      <td>0.1127</td>\n",
       "      <td>0.07400</td>\n",
       "      <td>...</td>\n",
       "      <td>27.66</td>\n",
       "      <td>153.20</td>\n",
       "      <td>1606.0</td>\n",
       "      <td>0.1442</td>\n",
       "      <td>0.2576</td>\n",
       "      <td>0.3784</td>\n",
       "      <td>0.1932</td>\n",
       "      <td>0.3063</td>\n",
       "      <td>0.08368</td>\n",
       "      <td>NaN</td>\n",
       "    </tr>\n",
       "  </tbody>\n",
       "</table>\n",
       "<p>7 rows × 33 columns</p>\n",
       "</div>"
      ],
      "text/plain": [
       "         id diagnosis  radius_mean  texture_mean  perimeter_mean  area_mean  \\\n",
       "0    842302         M        17.99         10.38          122.80     1001.0   \n",
       "1    842517         M        20.57         17.77          132.90     1326.0   \n",
       "2  84300903         M        19.69         21.25          130.00     1203.0   \n",
       "3  84348301         M        11.42         20.38           77.58      386.1   \n",
       "4  84358402         M        20.29         14.34          135.10     1297.0   \n",
       "5    843786         M        12.45         15.70           82.57      477.1   \n",
       "6    844359         M        18.25         19.98          119.60     1040.0   \n",
       "\n",
       "   smoothness_mean  compactness_mean  concavity_mean  concave points_mean  \\\n",
       "0          0.11840           0.27760          0.3001              0.14710   \n",
       "1          0.08474           0.07864          0.0869              0.07017   \n",
       "2          0.10960           0.15990          0.1974              0.12790   \n",
       "3          0.14250           0.28390          0.2414              0.10520   \n",
       "4          0.10030           0.13280          0.1980              0.10430   \n",
       "5          0.12780           0.17000          0.1578              0.08089   \n",
       "6          0.09463           0.10900          0.1127              0.07400   \n",
       "\n",
       "   ...  texture_worst  perimeter_worst  area_worst  smoothness_worst  \\\n",
       "0  ...          17.33           184.60      2019.0            0.1622   \n",
       "1  ...          23.41           158.80      1956.0            0.1238   \n",
       "2  ...          25.53           152.50      1709.0            0.1444   \n",
       "3  ...          26.50            98.87       567.7            0.2098   \n",
       "4  ...          16.67           152.20      1575.0            0.1374   \n",
       "5  ...          23.75           103.40       741.6            0.1791   \n",
       "6  ...          27.66           153.20      1606.0            0.1442   \n",
       "\n",
       "   compactness_worst  concavity_worst  concave points_worst  symmetry_worst  \\\n",
       "0             0.6656           0.7119                0.2654          0.4601   \n",
       "1             0.1866           0.2416                0.1860          0.2750   \n",
       "2             0.4245           0.4504                0.2430          0.3613   \n",
       "3             0.8663           0.6869                0.2575          0.6638   \n",
       "4             0.2050           0.4000                0.1625          0.2364   \n",
       "5             0.5249           0.5355                0.1741          0.3985   \n",
       "6             0.2576           0.3784                0.1932          0.3063   \n",
       "\n",
       "   fractal_dimension_worst  Unnamed: 32  \n",
       "0                  0.11890          NaN  \n",
       "1                  0.08902          NaN  \n",
       "2                  0.08758          NaN  \n",
       "3                  0.17300          NaN  \n",
       "4                  0.07678          NaN  \n",
       "5                  0.12440          NaN  \n",
       "6                  0.08368          NaN  \n",
       "\n",
       "[7 rows x 33 columns]"
      ]
     },
     "execution_count": 6,
     "metadata": {},
     "output_type": "execute_result"
    }
   ],
   "source": [
    "import pandas as pd  # Import pandas with alias 'pd'\n",
    "\n",
    "# Read the CSV file\n",
    "ml_data = pd.read_csv(r\"C:\\Users\\Vedha Pranava\\Desktop\\Breast-Cancer-Detection-master\\data.csv\")\n",
    "\n",
    "# Display the first 7 rows of the dataframe\n",
    "ml_data.head(7)\n"
   ]
  },
  {
   "cell_type": "markdown",
   "id": "59d2650b-9ba1-4062-8511-16e696720cbc",
   "metadata": {},
   "source": [
    "# A1"
   ]
  },
  {
   "cell_type": "code",
   "execution_count": 53,
   "id": "8223b9a9-4294-4988-a947-3de883f59ee6",
   "metadata": {
    "scrolled": true
   },
   "outputs": [
    {
     "name": "stdout",
     "output_type": "stream",
     "text": [
      "Available columns in the dataset:\n",
      "Index(['id', 'diagnosis', 'radius_mean', 'texture_mean', 'perimeter_mean',\n",
      "       'area_mean', 'smoothness_mean', 'compactness_mean', 'concavity_mean',\n",
      "       'concave points_mean', 'symmetry_mean', 'fractal_dimension_mean',\n",
      "       'radius_se', 'texture_se', 'perimeter_se', 'area_se', 'smoothness_se',\n",
      "       'compactness_se', 'concavity_se', 'concave points_se', 'symmetry_se',\n",
      "       'fractal_dimension_se', 'radius_worst', 'texture_worst',\n",
      "       'perimeter_worst', 'area_worst', 'smoothness_worst',\n",
      "       'compactness_worst', 'concavity_worst', 'concave points_worst',\n",
      "       'symmetry_worst', 'fractal_dimension_worst', 'Unnamed: 32'],\n",
      "      dtype='object')\n"
     ]
    }
   ],
   "source": [
    "print(\"Available columns in the dataset:\")\n",
    "print(data.columns)"
   ]
  },
  {
   "cell_type": "code",
   "execution_count": 8,
   "id": "b54e302d-8b45-4c9c-8f4d-56fdd13bf065",
   "metadata": {},
   "outputs": [
    {
     "name": "stdout",
     "output_type": "stream",
     "text": [
      "Centroid (Malignant):\n",
      " radius_mean                  17.462830\n",
      "texture_mean                 21.604906\n",
      "perimeter_mean              115.365377\n",
      "area_mean                   978.376415\n",
      "smoothness_mean               0.102898\n",
      "compactness_mean              0.145188\n",
      "concavity_mean                0.160775\n",
      "concave points_mean           0.087990\n",
      "symmetry_mean                 0.192909\n",
      "fractal_dimension_mean        0.062680\n",
      "radius_se                     0.609083\n",
      "texture_se                    1.210915\n",
      "perimeter_se                  4.323929\n",
      "area_se                      72.672406\n",
      "smoothness_se                 0.006780\n",
      "compactness_se                0.032281\n",
      "concavity_se                  0.041824\n",
      "concave points_se             0.015060\n",
      "symmetry_se                   0.020472\n",
      "fractal_dimension_se          0.004062\n",
      "radius_worst                 21.134811\n",
      "texture_worst                29.318208\n",
      "perimeter_worst             141.370330\n",
      "area_worst                 1422.286321\n",
      "smoothness_worst              0.144845\n",
      "compactness_worst             0.374824\n",
      "concavity_worst               0.450606\n",
      "concave points_worst          0.182237\n",
      "symmetry_worst                0.323468\n",
      "fractal_dimension_worst       0.091530\n",
      "dtype: float64\n",
      "\n",
      "Centroid (Benign):\n",
      " radius_mean                 12.146524\n",
      "texture_mean                17.914762\n",
      "perimeter_mean              78.075406\n",
      "area_mean                  462.790196\n",
      "smoothness_mean              0.092478\n",
      "compactness_mean             0.080085\n",
      "concavity_mean               0.046058\n",
      "concave points_mean          0.025717\n",
      "symmetry_mean                0.174186\n",
      "fractal_dimension_mean       0.062867\n",
      "radius_se                    0.284082\n",
      "texture_se                   1.220380\n",
      "perimeter_se                 2.000321\n",
      "area_se                     21.135148\n",
      "smoothness_se                0.007196\n",
      "compactness_se               0.021438\n",
      "concavity_se                 0.025997\n",
      "concave points_se            0.009858\n",
      "symmetry_se                  0.020584\n",
      "fractal_dimension_se         0.003636\n",
      "radius_worst                13.379801\n",
      "texture_worst               23.515070\n",
      "perimeter_worst             87.005938\n",
      "area_worst                 558.899440\n",
      "smoothness_worst             0.124959\n",
      "compactness_worst            0.182673\n",
      "concavity_worst              0.166238\n",
      "concave points_worst         0.074444\n",
      "symmetry_worst               0.270246\n",
      "fractal_dimension_worst      0.079442\n",
      "dtype: float64\n",
      "\n",
      "Spread (Standard Deviation) - Malignant:\n",
      " radius_mean                  3.203971\n",
      "texture_mean                 3.779470\n",
      "perimeter_mean              21.854653\n",
      "area_mean                  367.937978\n",
      "smoothness_mean              0.012608\n",
      "compactness_mean             0.053987\n",
      "concavity_mean               0.075019\n",
      "concave points_mean          0.034374\n",
      "symmetry_mean                0.027638\n",
      "fractal_dimension_mean       0.007573\n",
      "radius_se                    0.345039\n",
      "texture_se                   0.483178\n",
      "perimeter_se                 2.568546\n",
      "area_se                     61.355268\n",
      "smoothness_se                0.002890\n",
      "compactness_se               0.018387\n",
      "concavity_se                 0.021603\n",
      "concave points_se            0.005517\n",
      "symmetry_se                  0.010065\n",
      "fractal_dimension_se         0.002041\n",
      "radius_worst                 4.283569\n",
      "texture_worst                5.434804\n",
      "perimeter_worst             29.457055\n",
      "area_worst                 597.967743\n",
      "smoothness_worst             0.021870\n",
      "compactness_worst            0.170372\n",
      "concavity_worst              0.181507\n",
      "concave points_worst         0.046308\n",
      "symmetry_worst               0.074685\n",
      "fractal_dimension_worst      0.021553\n",
      "dtype: float64\n",
      "\n",
      "Spread (Standard Deviation) - Benign:\n",
      " radius_mean                  1.780512\n",
      "texture_mean                 3.995125\n",
      "perimeter_mean              11.807438\n",
      "area_mean                  134.287118\n",
      "smoothness_mean              0.013446\n",
      "compactness_mean             0.033750\n",
      "concavity_mean               0.043442\n",
      "concave points_mean          0.015909\n",
      "symmetry_mean                0.024807\n",
      "fractal_dimension_mean       0.006747\n",
      "radius_se                    0.112570\n",
      "texture_se                   0.589180\n",
      "perimeter_se                 0.771169\n",
      "area_se                      8.843472\n",
      "smoothness_se                0.003061\n",
      "compactness_se               0.016352\n",
      "concavity_se                 0.032918\n",
      "concave points_se            0.005709\n",
      "symmetry_se                  0.006999\n",
      "fractal_dimension_se         0.002938\n",
      "radius_worst                 1.981368\n",
      "texture_worst                5.493955\n",
      "perimeter_worst             13.527091\n",
      "area_worst                 163.601424\n",
      "smoothness_worst             0.020013\n",
      "compactness_worst            0.092180\n",
      "concavity_worst              0.140368\n",
      "concave points_worst         0.035797\n",
      "symmetry_worst               0.041745\n",
      "fractal_dimension_worst      0.013804\n",
      "dtype: float64\n",
      "\n",
      "Interclass Distance between Centroids:  1009.1627866986589\n"
     ]
    }
   ],
   "source": [
    "import pandas as pd\n",
    "import numpy as np\n",
    "\n",
    "# Load the dataset\n",
    "file_path = r\"C:\\Users\\Vedha Pranava\\Desktop\\Breast-Cancer-Detection-master\\data.csv\"\n",
    "data = pd.read_csv(file_path)\n",
    "\n",
    "# Dropping non-feature columns and ensuring all remaining columns are numeric\n",
    "feature_data = data.drop(columns=['id', 'diagnosis', 'Unnamed: 32'], errors='ignore')\n",
    "feature_data = feature_data.apply(pd.to_numeric, errors='coerce')\n",
    "\n",
    "# Drop any columns or rows with missing values that couldn't be converted to numeric\n",
    "feature_data = feature_data.dropna(axis=1)\n",
    "\n",
    "# Separate the data by class\n",
    "malignant_data = feature_data[data['diagnosis'] == 'M']\n",
    "benign_data = feature_data[data['diagnosis'] == 'B']\n",
    "\n",
    "# Calculate the centroids (mean vector) for each class\n",
    "centroid_malignant = malignant_data.mean(axis=0)\n",
    "centroid_benign = benign_data.mean(axis=0)\n",
    "\n",
    "# Calculate the spread (standard deviation) for each class\n",
    "spread_malignant = malignant_data.std(axis=0)\n",
    "spread_benign = benign_data.std(axis=0)\n",
    "\n",
    "# Calculate the Euclidean distance between the two centroids\n",
    "interclass_distance = np.linalg.norm(centroid_malignant - centroid_benign)\n",
    "\n",
    "# Output the results\n",
    "print(\"Centroid (Malignant):\\n\", centroid_malignant)\n",
    "print(\"\\nCentroid (Benign):\\n\", centroid_benign)\n",
    "print(\"\\nSpread (Standard Deviation) - Malignant:\\n\", spread_malignant)\n",
    "print(\"\\nSpread (Standard Deviation) - Benign:\\n\", spread_benign)\n",
    "print(\"\\nInterclass Distance between Centroids: \", interclass_distance)\n"
   ]
  },
  {
   "cell_type": "markdown",
   "id": "ff4f0b48-c2ba-4d24-b1fd-e91843186c90",
   "metadata": {},
   "source": [
    "# A2"
   ]
  },
  {
   "cell_type": "code",
   "execution_count": 30,
   "id": "b5bf70da-e4f9-4f27-b8cd-c0f17d950ea8",
   "metadata": {},
   "outputs": [
    {
     "data": {
      "image/png": "[encoded data removed]",
      "text/plain": [
       "<Figure size 640x480 with 1 Axes>"
      ]
     },
     "metadata": {},
     "output_type": "display_data"
    },
    {
     "name": "stdout",
     "output_type": "stream",
     "text": [
      "Mean of radius_mean: 14.127291739894552\n",
      "Variance of radius_mean: 12.397094259351807\n",
      "Variance of radius_mean: 12.397094259351807\n"
     ]
    }
   ],
   "source": [
    "import pandas as pd\n",
    "import numpy as np\n",
    "import matplotlib.pyplot as plt\n",
    "\n",
    "# Correct file path\n",
    "file_path = 'C:\\\\Users\\\\Vedha Pranava\\\\Desktop\\\\Breast-Cancer-Detection-master\\\\data.csv'\n",
    "\n",
    "# Load the dataset\n",
    "data = pd.read_csv(file_path)\n",
    "\n",
    "# Selecting a feature for histogram plot (e.g., 'radius_mean')\n",
    "feature = 'radius_mean'\n",
    "\n",
    "# Plotting the histogram\n",
    "plt.hist(data[feature], bins=10, color='blue', alpha=0.7)\n",
    "plt.title(f'Histogram of {feature}')\n",
    "plt.xlabel(feature)\n",
    "plt.ylabel('Frequency')\n",
    "plt.show()\n",
    "\n",
    "# Calculate mean and variance of the feature\n",
    "mean = np.mean(data[feature])\n",
    "variance = np.var(data[feature])\n",
    "\n",
    "print(f'Mean of {feature}: {mean}')\n",
    "print(f'Variance of {feature}: {variance}')\n",
    "print(f'Variance of {feature}: {variance}')\r\n"
   ]
  },
  {
   "cell_type": "markdown",
   "id": "5cbc4cf9-1924-4c20-9ab5-893a43ba6ddd",
   "metadata": {},
   "source": [
    "# A3"
   ]
  },
  {
   "cell_type": "code",
   "execution_count": 75,
   "id": "d163b497-9d77-4f16-8588-dde37d49882a",
   "metadata": {},
   "outputs": [
    {
     "data": {
      "image/png": "[encoded data removed]",
      "text/plain": [
       "<Figure size 640x480 with 1 Axes>"
      ]
     },
     "metadata": {},
     "output_type": "display_data"
    }
   ],
   "source": [
    "import matplotlib.pyplot as plt\n",
    "from scipy.spatial.distance import minkowski\n",
    "\n",
    "# Selecting two features for distance calculation\n",
    "feature1 = 'radius_mean'\n",
    "feature2 = 'texture_mean'\n",
    "\n",
    "# Extracting feature vectors\n",
    "vec1 = data[feature1]\n",
    "vec2 = data[feature2]\n",
    "\n",
    "# Calculating Minkowski distances for r from 1 to 10\n",
    "distances = []\n",
    "r_values = range(1, 11)\n",
    "for r in r_values:\n",
    "    distance = minkowski(vec1, vec2, r)\n",
    "    distances.append(distance)\n",
    "\n",
    "# Plotting the distances\n",
    "plt.plot(r_values, distances, marker='o', color='red')\n",
    "plt.title('Minkowski Distance between two features')\n",
    "plt.xlabel('r')\n",
    "plt.ylabel('Distance')\n",
    "plt.show()\n"
   ]
  },
  {
   "cell_type": "markdown",
   "id": "93a4a485-c36c-4dcd-a140-5a6f1f89b3c5",
   "metadata": {},
   "source": [
    "# A4"
   ]
  },
  {
   "cell_type": "code",
   "execution_count": 78,
   "id": "407caa00-302a-4e6c-92d6-135fc8ddb791",
   "metadata": {},
   "outputs": [
    {
     "name": "stdout",
     "output_type": "stream",
     "text": [
      "Training set size: 398\n",
      "Test set size: 171\n"
     ]
    }
   ],
   "source": [
    "from sklearn.model_selection import train_test_split\n",
    "\n",
    "# Selecting features and target variable\n",
    "X = feature_data  # All feature columns\n",
    "y = data['diagnosis']  # Class labels\n",
    "\n",
    "# Splitting the dataset (70% train, 30% test)\n",
    "X_train, X_test, y_train, y_test = train_test_split(X, y, test_size=0.3, random_state=42)\n",
    "\n",
    "print(f\"Training set size: {X_train.shape[0]}\")\n",
    "print(f\"Test set size: {X_test.shape[0]}\")\n"
   ]
  },
  {
   "cell_type": "markdown",
   "id": "7d6bcb6b-f1cc-48f6-af34-b11de53a4787",
   "metadata": {},
   "source": [
    "# A5"
   ]
  },
  {
   "cell_type": "code",
   "execution_count": 81,
   "id": "361cc6dc-c35a-4983-8af5-d7025344a2c9",
   "metadata": {},
   "outputs": [
    {
     "data": {
      "text/html": [
       "<style>#sk-container-id-1 {color: black;background-color: white;}#sk-container-id-1 pre{padding: 0;}#sk-container-id-1 div.sk-toggleable {background-color: white;}#sk-container-id-1 label.sk-toggleable__label {cursor: pointer;display: block;width: 100%;margin-bottom: 0;padding: 0.3em;box-sizing: border-box;text-align: center;}#sk-container-id-1 label.sk-toggleable__label-arrow:before {content: \"▸\";float: left;margin-right: 0.25em;color: #696969;}#sk-container-id-1 label.sk-toggleable__label-arrow:hover:before {color: black;}#sk-container-id-1 div.sk-estimator:hover label.sk-toggleable__label-arrow:before {color: black;}#sk-container-id-1 div.sk-toggleable__content {max-height: 0;max-width: 0;overflow: hidden;text-align: left;background-color: #f0f8ff;}#sk-container-id-1 div.sk-toggleable__content pre {margin: 0.2em;color: black;border-radius: 0.25em;background-color: #f0f8ff;}#sk-container-id-1 input.sk-toggleable__control:checked~div.sk-toggleable__content {max-height: 200px;max-width: 100%;overflow: auto;}#sk-container-id-1 input.sk-toggleable__control:checked~label.sk-toggleable__label-arrow:before {content: \"▾\";}#sk-container-id-1 div.sk-estimator input.sk-toggleable__control:checked~label.sk-toggleable__label {background-color: #d4ebff;}#sk-container-id-1 div.sk-label input.sk-toggleable__control:checked~label.sk-toggleable__label {background-color: #d4ebff;}#sk-container-id-1 input.sk-hidden--visually {border: 0;clip: rect(1px 1px 1px 1px);clip: rect(1px, 1px, 1px, 1px);height: 1px;margin: -1px;overflow: hidden;padding: 0;position: absolute;width: 1px;}#sk-container-id-1 div.sk-estimator {font-family: monospace;background-color: #f0f8ff;border: 1px dotted black;border-radius: 0.25em;box-sizing: border-box;margin-bottom: 0.5em;}#sk-container-id-1 div.sk-estimator:hover {background-color: #d4ebff;}#sk-container-id-1 div.sk-parallel-item::after {content: \"\";width: 100%;border-bottom: 1px solid gray;flex-grow: 1;}#sk-container-id-1 div.sk-label:hover label.sk-toggleable__label {background-color: #d4ebff;}#sk-container-id-1 div.sk-serial::before {content: \"\";position: absolute;border-left: 1px solid gray;box-sizing: border-box;top: 0;bottom: 0;left: 50%;z-index: 0;}#sk-container-id-1 div.sk-serial {display: flex;flex-direction: column;align-items: center;background-color: white;padding-right: 0.2em;padding-left: 0.2em;position: relative;}#sk-container-id-1 div.sk-item {position: relative;z-index: 1;}#sk-container-id-1 div.sk-parallel {display: flex;align-items: stretch;justify-content: center;background-color: white;position: relative;}#sk-container-id-1 div.sk-item::before, #sk-container-id-1 div.sk-parallel-item::before {content: \"\";position: absolute;border-left: 1px solid gray;box-sizing: border-box;top: 0;bottom: 0;left: 50%;z-index: -1;}#sk-container-id-1 div.sk-parallel-item {display: flex;flex-direction: column;z-index: 1;position: relative;background-color: white;}#sk-container-id-1 div.sk-parallel-item:first-child::after {align-self: flex-end;width: 50%;}#sk-container-id-1 div.sk-parallel-item:last-child::after {align-self: flex-start;width: 50%;}#sk-container-id-1 div.sk-parallel-item:only-child::after {width: 0;}#sk-container-id-1 div.sk-dashed-wrapped {border: 1px dashed gray;margin: 0 0.4em 0.5em 0.4em;box-sizing: border-box;padding-bottom: 0.4em;background-color: white;}#sk-container-id-1 div.sk-label label {font-family: monospace;font-weight: bold;display: inline-block;line-height: 1.2em;}#sk-container-id-1 div.sk-label-container {text-align: center;}#sk-container-id-1 div.sk-container {/* jupyter's `normalize.less` sets `[hidden] { display: none; }` but bootstrap.min.css set `[hidden] { display: none !important; }` so we also need the `!important` here to be able to override the default hidden behavior on the sphinx rendered scikit-learn.org. See: https://github.com/scikit-learn/scikit-learn/issues/21755 */display: inline-block !important;position: relative;}#sk-container-id-1 div.sk-text-repr-fallback {display: none;}</style><div id=\"sk-container-id-1\" class=\"sk-top-container\"><div class=\"sk-text-repr-fallback\"><pre>KNeighborsClassifier(n_neighbors=3)</pre><b>In a Jupyter environment, please rerun this cell to show the HTML representation or trust the notebook. <br />On GitHub, the HTML representation is unable to render, please try loading this page with nbviewer.org.</b></div><div class=\"sk-container\" hidden><div class=\"sk-item\"><div class=\"sk-estimator sk-toggleable\"><input class=\"sk-toggleable__control sk-hidden--visually\" id=\"sk-estimator-id-1\" type=\"checkbox\" checked><label for=\"sk-estimator-id-1\" class=\"sk-toggleable__label sk-toggleable__label-arrow\">KNeighborsClassifier</label><div class=\"sk-toggleable__content\"><pre>KNeighborsClassifier(n_neighbors=3)</pre></div></div></div></div></div>"
      ],
      "text/plain": [
       "KNeighborsClassifier(n_neighbors=3)"
      ]
     },
     "execution_count": 81,
     "metadata": {},
     "output_type": "execute_result"
    }
   ],
   "source": [
    "from sklearn.neighbors import KNeighborsClassifier\n",
    "\n",
    "# Creating the k-NN classifier with k=3\n",
    "knn = KNeighborsClassifier(n_neighbors=3)\n",
    "\n",
    "# Fitting the model on the training data\n",
    "knn.fit(X_train, y_train)\n"
   ]
  },
  {
   "cell_type": "markdown",
   "id": "f1cbab65-82db-45b8-892d-881d4a830dc3",
   "metadata": {},
   "source": [
    "# A6\n"
   ]
  },
  {
   "cell_type": "code",
   "execution_count": 84,
   "id": "5ed59cc9-8fe4-471c-aadc-ca6e5f9057b3",
   "metadata": {},
   "outputs": [
    {
     "name": "stdout",
     "output_type": "stream",
     "text": [
      "Accuracy of the k-NN classifier: 94.15%\n"
     ]
    }
   ],
   "source": [
    "# Testing the accuracy on the test set\n",
    "accuracy = knn.score(X_test, y_test)\n",
    "\n",
    "print(f'Accuracy of the k-NN classifier: {accuracy * 100:.2f}%')\n"
   ]
  },
  {
   "cell_type": "markdown",
   "id": "df6e0a76-4ec6-43a9-956e-da028253a5f1",
   "metadata": {},
   "source": [
    "# A7\n"
   ]
  },
  {
   "cell_type": "code",
   "execution_count": 90,
   "id": "986d5c3e-3332-4817-8429-ece13864ab51",
   "metadata": {},
   "outputs": [
    {
     "name": "stdout",
     "output_type": "stream",
     "text": [
      "Predictions: ['M' 'M' 'M' 'B' 'B' 'M' 'M' 'M' 'B' 'B']\n",
      "Actual: ['B' 'M' 'M' 'B' 'B' 'M' 'M' 'M' 'B' 'B']\n"
     ]
    }
   ],
   "source": [
    "# Predict on the test set\n",
    "predictions = knn.predict(X_test)\n",
    "\n",
    "print(f\"Predictions: {predictions[:10]}\")\n",
    "print(f\"Actual: {y_test.values[:10]}\")\n"
   ]
  },
  {
   "cell_type": "markdown",
   "id": "adc4436b-c93b-4f2d-b0f3-d3678e4557cc",
   "metadata": {},
   "source": [
    "# A8\n"
   ]
  },
  {
   "cell_type": "code",
   "execution_count": 94,
   "id": "52f3bef3-5b95-4847-84ca-a2edd4b2d705",
   "metadata": {},
   "outputs": [
    {
     "data": {
      "image/png": "[encoded data removed]",
      "text/plain": [
       "<Figure size 640x480 with 1 Axes>"
      ]
     },
     "metadata": {},
     "output_type": "display_data"
    }
   ],
   "source": [
    "accuracies = []\n",
    "\n",
    "# Evaluate for k from 1 to 11\n",
    "for k in range(1, 12):\n",
    "    knn = KNeighborsClassifier(n_neighbors=k)\n",
    "    knn.fit(X_train, y_train)\n",
    "    accuracy = knn.score(X_test, y_test)\n",
    "    accuracies.append(accuracy)\n",
    "\n",
    "# Plot accuracies for different k values\n",
    "plt.plot(range(1, 12), accuracies, marker='o')\n",
    "plt.title('kNN Classifier Accuracy for Different k Values')\n",
    "plt.xlabel('k')\n",
    "plt.ylabel('Accuracy')\n",
    "plt.grid(True)\n",
    "plt.show()\n"
   ]
  },
  {
   "cell_type": "markdown",
   "id": "99cbff17-7197-4f6f-ba4e-1e6a8293089e",
   "metadata": {},
   "source": [
    "# A9"
   ]
  },
  {
   "cell_type": "code",
   "execution_count": 97,
   "id": "e54468f1-b854-42a4-9857-9b6d56b36237",
   "metadata": {},
   "outputs": [
    {
     "name": "stdout",
     "output_type": "stream",
     "text": [
      "Confusion Matrix:\n",
      "[[104   4]\n",
      " [  6  57]]\n",
      "\n",
      "Classification Report:\n",
      "              precision    recall  f1-score   support\n",
      "\n",
      "           B       0.95      0.96      0.95       108\n",
      "           M       0.93      0.90      0.92        63\n",
      "\n",
      "    accuracy                           0.94       171\n",
      "   macro avg       0.94      0.93      0.94       171\n",
      "weighted avg       0.94      0.94      0.94       171\n",
      "\n"
     ]
    }
   ],
   "source": [
    "from sklearn.metrics import confusion_matrix, classification_report\n",
    "\n",
    "# Confusion matrix\n",
    "conf_matrix = confusion_matrix(y_test, predictions)\n",
    "print(\"Confusion Matrix:\")\n",
    "print(conf_matrix)\n",
    "\n",
    "# Classification report\n",
    "report = classification_report(y_test, predictions)\n",
    "print(\"\\nClassification Report:\")\n",
    "print(report)\n"
   ]
  },
  {
   "cell_type": "code",
   "execution_count": null,
   "id": "6661e0b9-7592-4bcf-9b31-679d11059ae9",
   "metadata": {},
   "outputs": [],
   "source": []
  }
 ],
 "metadata": {
  "kernelspec": {
   "display_name": "Python 3 (ipykernel)",
   "language": "python",
   "name": "python3"
  },
  "language_info": {
   "codemirror_mode": {
    "name": "ipython",
    "version": 3
   },
   "file_extension": ".py",
   "mimetype": "text/x-python",
   "name": "python",
   "nbconvert_exporter": "python",
   "pygments_lexer": "ipython3",
   "version": "3.12.4"
  }
 },
 "nbformat": 4,
 "nbformat_minor": 5
}
