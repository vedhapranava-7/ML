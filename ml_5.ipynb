{
 "cells": [
  {
   "cell_type": "code",
   "execution_count": 11,
   "id": "b58b5a46-3c62-4b91-a9f6-3da42c0aa6f6",
   "metadata": {},
   "outputs": [
    {
     "name": "stdout",
     "output_type": "stream",
     "text": [
      "Model trained successfully.\n"
     ]
    }
   ],
   "source": [
    "import pandas as pd\n",
    "from sklearn.linear_model import LinearRegression\n",
    "from sklearn.model_selection import train_test_split\n",
    "from sklearn.metrics import mean_squared_error, mean_absolute_percentage_error, r2_score\n",
    "import numpy as np\n",
    "\n",
    "# Load the dataset\n",
    "file_path = r\"C:\\Users\\Vedha Pranava\\Desktop\\Breast-Cancer-Detection-master\\data.csv\"\n",
    "data = pd.read_csv(file_path)\n",
    "\n",
    "# Select a feature column and the target column (diagnosis)\n",
    "# Assuming 'diagnosis' is the target column and 'area_mean' is one of the features\n",
    "X = data[['area_mean']]  # Feature column\n",
    "y = data['diagnosis'].map({'M': 1, 'B': 0})  # Mapping diagnosis to numeric values\n",
    "\n",
    "# Split the data into training and testing sets\n",
    "X_train, X_test, y_train, y_test = train_test_split(X, y, test_size=0.2, random_state=42)\n",
    "\n",
    "# Train the model\n",
    "reg = LinearRegression().fit(X_train, y_train)\n",
    "\n",
    "# Predict on training data\n",
    "y_train_pred = reg.predict(X_train)\n",
    "\n",
    "print(\"Model trained successfully.\")\n"
   ]
  },
  {
   "cell_type": "code",
   "execution_count": 12,
   "id": "0e36b5fb-dc6b-422b-890d-93e1473d858f",
   "metadata": {},
   "outputs": [
    {
     "name": "stdout",
     "output_type": "stream",
     "text": [
      "Training MSE: 0.12064237040188494, RMSE: 0.34733610581378516, MAPE: 555788762863164.5, R2: 0.48326257432759057\n",
      "Test MSE: 0.0992450242543682, RMSE: 0.31503178292732337, MAPE: 525491887389714.5, R2: 0.5775341188307339\n"
     ]
    }
   ],
   "source": [
    "# Calculate metrics for the training set\n",
    "mse_train = mean_squared_error(y_train, y_train_pred)\n",
    "rmse_train = np.sqrt(mse_train)\n",
    "mape_train = mean_absolute_percentage_error(y_train, y_train_pred)\n",
    "r2_train = r2_score(y_train, y_train_pred)\n",
    "\n",
    "# Predict on test data\n",
    "y_test_pred = reg.predict(X_test)\n",
    "\n",
    "# Calculate metrics for the test set\n",
    "mse_test = mean_squared_error(y_test, y_test_pred)\n",
    "rmse_test = np.sqrt(mse_test)\n",
    "mape_test = mean_absolute_percentage_error(y_test, y_test_pred)\n",
    "r2_test = r2_score(y_test, y_test_pred)\n",
    "\n",
    "print(f\"Training MSE: {mse_train}, RMSE: {rmse_train}, MAPE: {mape_train}, R2: {r2_train}\")\n",
    "print(f\"Test MSE: {mse_test}, RMSE: {rmse_test}, MAPE: {mape_test}, R2: {r2_test}\")\n"
   ]
  },
  {
   "cell_type": "code",
   "execution_count": 22,
   "id": "5e6b9bbc-bff7-40b6-b252-a3721d43f461",
   "metadata": {},
   "outputs": [
    {
     "name": "stdout",
     "output_type": "stream",
     "text": [
      "Training MSE: 0.051580781492114876, RMSE: 0.2271140275106645, MAPE: 417509529517666.3, R2: 0.7790683310215358\n",
      "Test MSE: 0.06402707095911243, RMSE: 0.25303571083764526, MAPE: 452209325576615.9, R2: 0.7274497824485341\n"
     ]
    }
   ],
   "source": [
    "# Use all columns except 'diagnosis' as features\n",
    "X = data.drop(columns=['diagnosis', 'Unnamed: 32'])  # Drop target and any unnecessary columns\n",
    "y = data['diagnosis'].map({'M': 1, 'B': 0})\n",
    "\n",
    "# Split the data into training and testing sets\n",
    "X_train, X_test, y_train, y_test = train_test_split(X, y, test_size=0.2, random_state=42)\n",
    "\n",
    "# Train the model\n",
    "reg = LinearRegression().fit(X_train, y_train)\n",
    "\n",
    "# Predict on training data\n",
    "y_train_pred = reg.predict(X_train)\n",
    "\n",
    "# Predict on test data\n",
    "y_test_pred = reg.predict(X_test)\n",
    "\n",
    "# Reuse the code from A2 to calculate metrics\n",
    "# Calculate metrics for the training set\n",
    "mse_train = mean_squared_error(y_train, y_train_pred)\n",
    "rmse_train = np.sqrt(mse_train)\n",
    "mape_train = mean_absolute_percentage_error(y_train, y_train_pred)\n",
    "r2_train = r2_score(y_train, y_train_pred)\n",
    "\n",
    "# Predict on test data\n",
    "y_test_pred = reg.predict(X_test)\n",
    "\n",
    "# Calculate metrics for the test set\n",
    "mse_test = mean_squared_error(y_test, y_test_pred)\n",
    "rmse_test = np.sqrt(mse_test)\n",
    "mape_test = mean_absolute_percentage_error(y_test, y_test_pred)\n",
    "r2_test = r2_score(y_test, y_test_pred)\n",
    "\n",
    "print(f\"Training MSE: {mse_train}, RMSE: {rmse_train}, MAPE: {mape_train}, R2: {r2_train}\")\n",
    "print(f\"Test MSE: {mse_test}, RMSE: {rmse_test}, MAPE: {mape_test}, R2: {r2_test}\")\n",
    "\n"
   ]
  },
  {
   "cell_type": "code",
   "execution_count": 4,
   "id": "b9657a85-50dc-4c44-adcc-39077268303d",
   "metadata": {},
   "outputs": [
    {
     "name": "stdout",
     "output_type": "stream",
     "text": [
      "Index(['id', 'diagnosis', 'radius_mean', 'texture_mean', 'perimeter_mean',\n",
      "       'area_mean', 'smoothness_mean', 'compactness_mean', 'concavity_mean',\n",
      "       'concave points_mean', 'symmetry_mean', 'fractal_dimension_mean',\n",
      "       'radius_se', 'texture_se', 'perimeter_se', 'area_se', 'smoothness_se',\n",
      "       'compactness_se', 'concavity_se', 'concave points_se', 'symmetry_se',\n",
      "       'fractal_dimension_se', 'radius_worst', 'texture_worst',\n",
      "       'perimeter_worst', 'area_worst', 'smoothness_worst',\n",
      "       'compactness_worst', 'concavity_worst', 'concave points_worst',\n",
      "       'symmetry_worst', 'fractal_dimension_worst', 'Unnamed: 32'],\n",
      "      dtype='object')\n"
     ]
    }
   ],
   "source": [
    "from sklearn.cluster import KMeans\n",
    "\n",
    "# Use all columns except 'diagnosis' for clustering\n",
    "X = data.drop(columns=['diagnosis', 'Unnamed: 32'])\n",
    "\n",
    "# Perform K-means clustering with k=2\n",
    "kmeans = KMeans(n_clusters=2, random_state=0, n_init=\"auto\").fit(X)\n",
    "\n",
    "# Get cluster labels and centers\n",
    "labels = kmeans.labels_\n",
    "centers = kmeans.cluster_centers_\n",
    "\n",
    "print(\"K-means clustering completed.\")\n",
    "print(\"Cluster centers:\", centers)\n"
   ]
  },
  {
   "cell_type": "code",
   "execution_count": 17,
   "id": "148b7f5e-77d2-4a4a-82cf-ec93280e4c8f",
   "metadata": {},
   "outputs": [
    {
     "name": "stdout",
     "output_type": "stream",
     "text": [
      "Silhouette Score: 0.9753276628229737\n",
      "CH Score: 10344.154673193765\n",
      "Davies-Bouldin Index: 0.038293779040724646\n"
     ]
    }
   ],
   "source": [
    "from sklearn.cluster import KMeans\n",
    "from sklearn.metrics import silhouette_score, calinski_harabasz_score, davies_bouldin_score\n",
    "\n",
    "# Load your dataset and preprocess it (assuming the data is already loaded)\n",
    "X = data.drop(columns=['diagnosis', 'Unnamed: 32'])  # Exclude the target and unnecessary columns\n",
    "\n",
    "# Train the k-means model with 2 clusters (for example)\n",
    "kmeans = KMeans(n_clusters=2, random_state=42, n_init=\"auto\").fit(X)\n",
    "\n",
    "# Calculate the Silhouette Score, CH Score, and DB Index\n",
    "sil_score = silhouette_score(X, kmeans.labels_)\n",
    "ch_score = calinski_harabasz_score(X, kmeans.labels_)\n",
    "db_score = davies_bouldin_score(X, kmeans.labels_)\n",
    "\n",
    "# Print the results\n",
    "print(f\"Silhouette Score: {sil_score}\")\n",
    "print(f\"CH Score: {ch_score}\")\n",
    "print(f\"Davies-Bouldin Index: {db_score}\")\n"
   ]
  },
  {
   "cell_type": "code",
   "execution_count": 18,
   "id": "c8971c6d-d504-4b19-8307-cb6b92f493c9",
   "metadata": {},
   "outputs": [
    {
     "name": "stdout",
     "output_type": "stream",
     "text": [
      "    k  silhouette      ch_score  db_score\n",
      "0   2    0.975328  1.034415e+04  0.038294\n",
      "1   3    0.966819  2.912509e+05  0.042527\n",
      "2   4    0.963715  2.803553e+05  0.169273\n",
      "3   5    0.973463  1.908270e+06  0.134187\n",
      "4   6    0.928782  2.534904e+06  0.280867\n",
      "5   7    0.930313  3.401974e+06  0.237410\n",
      "6   8    0.932266  4.974011e+06  0.141144\n",
      "7   9    0.937692  9.717063e+06  0.151160\n",
      "8  10    0.930086  1.375457e+07  0.139392\n"
     ]
    }
   ],
   "source": [
    "import pandas as pd\n",
    "\n",
    "# Define a dictionary to store the scores for different k values\n",
    "scores = {'k': [], 'silhouette': [], 'ch_score': [], 'db_score': []}\n",
    "\n",
    "for k in range(2, 11):  # Adjust range as needed\n",
    "    kmeans = KMeans(n_clusters=k, random_state=42, n_init=\"auto\").fit(X)\n",
    "    labels = kmeans.labels_\n",
    "\n",
    "    # Store the scores for each k\n",
    "    scores['k'].append(k)\n",
    "    scores['silhouette'].append(silhouette_score(X, labels))\n",
    "    scores['ch_score'].append(calinski_harabasz_score(X, labels))\n",
    "    scores['db_score'].append(davies_bouldin_score(X, labels))\n",
    "\n",
    "# Convert the scores to a DataFrame for easier viewing and plotting\n",
    "scores_df = pd.DataFrame(scores)\n",
    "print(scores_df)\n"
   ]
  },
  {
   "cell_type": "code",
   "execution_count": 19,
   "id": "fea15497-4786-4e9f-8b84-864b508f9b41",
   "metadata": {},
   "outputs": [
    {
     "data": {
      "image/png": "[encoded data removed]",
      "text/plain": [
       "<Figure size 640x480 with 1 Axes>"
      ]
     },
     "metadata": {},
     "output_type": "display_data"
    }
   ],
   "source": [
    "import matplotlib.pyplot as plt\n",
    "\n",
    "# Calculate distortions (inertia) for different values of k\n",
    "distortions = []\n",
    "\n",
    "for k in range(2, 20):\n",
    "    kmeans = KMeans(n_clusters=k, random_state=42, n_init=\"auto\").fit(X)\n",
    "    distortions.append(kmeans.inertia_)\n",
    "\n",
    "# Plot the elbow curve\n",
    "plt.plot(range(2, 20), distortions, marker='o')\n",
    "plt.xlabel('Number of clusters (k)')\n",
    "plt.ylabel('Distortion (Inertia)')\n",
    "plt.title('Elbow Method for Optimal k')\n",
    "plt.show()\n"
   ]
  }
 ],
 "metadata": {
  "kernelspec": {
   "display_name": "Python 3 (ipykernel)",
   "language": "python",
   "name": "python3"
  },
  "language_info": {
   "codemirror_mode": {
    "name": "ipython",
    "version": 3
   },
   "file_extension": ".py",
   "mimetype": "text/x-python",
   "name": "python",
   "nbconvert_exporter": "python",
   "pygments_lexer": "ipython3",
   "version": "3.12.4"
  }
 },
 "nbformat": 4,
 "nbformat_minor": 5
}
