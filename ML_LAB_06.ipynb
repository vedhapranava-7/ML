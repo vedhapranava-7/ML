{
 "cells": [
  {
   "cell_type": "code",
   "execution_count": 12,
   "id": "ff9da8ab-b94c-4f13-8648-154b4e48611f",
   "metadata": {},
   "outputs": [
    {
     "name": "stdout",
     "output_type": "stream",
     "text": [
      "         id diagnosis  radius_mean  texture_mean  perimeter_mean  area_mean  \\\n",
      "0    842302         M        17.99         10.38          122.80     1001.0   \n",
      "1    842517         M        20.57         17.77          132.90     1326.0   \n",
      "2  84300903         M        19.69         21.25          130.00     1203.0   \n",
      "3  84348301         M        11.42         20.38           77.58      386.1   \n",
      "4  84358402         M        20.29         14.34          135.10     1297.0   \n",
      "\n",
      "   smoothness_mean  compactness_mean  concavity_mean  concave points_mean  \\\n",
      "0          0.11840           0.27760          0.3001              0.14710   \n",
      "1          0.08474           0.07864          0.0869              0.07017   \n",
      "2          0.10960           0.15990          0.1974              0.12790   \n",
      "3          0.14250           0.28390          0.2414              0.10520   \n",
      "4          0.10030           0.13280          0.1980              0.10430   \n",
      "\n",
      "   ...  texture_worst  perimeter_worst  area_worst  smoothness_worst  \\\n",
      "0  ...          17.33           184.60      2019.0            0.1622   \n",
      "1  ...          23.41           158.80      1956.0            0.1238   \n",
      "2  ...          25.53           152.50      1709.0            0.1444   \n",
      "3  ...          26.50            98.87       567.7            0.2098   \n",
      "4  ...          16.67           152.20      1575.0            0.1374   \n",
      "\n",
      "   compactness_worst  concavity_worst  concave points_worst  symmetry_worst  \\\n",
      "0             0.6656           0.7119                0.2654          0.4601   \n",
      "1             0.1866           0.2416                0.1860          0.2750   \n",
      "2             0.4245           0.4504                0.2430          0.3613   \n",
      "3             0.8663           0.6869                0.2575          0.6638   \n",
      "4             0.2050           0.4000                0.1625          0.2364   \n",
      "\n",
      "   fractal_dimension_worst  Unnamed: 32  \n",
      "0                  0.11890          NaN  \n",
      "1                  0.08902          NaN  \n",
      "2                  0.08758          NaN  \n",
      "3                  0.17300          NaN  \n",
      "4                  0.07678          NaN  \n",
      "\n",
      "[5 rows x 33 columns]\n"
     ]
    }
   ],
   "source": [
    "import pandas as pd\n",
    "\n",
    "# Load the dataset\n",
    "file_path = r\"C:\\\\Users\\\\Vedha Pranava\\\\Desktop\\\\Breast-Cancer-Detection-master\\\\data.csv\"\n",
    "data = pd.read_csv(file_path)\n",
    "\n",
    "# Display the first few rows of the dataset\n",
    "print(data.head())\n"
   ]
  },
  {
   "cell_type": "markdown",
   "id": "d45c1c1a-8f33-49e6-8664-e15f0dc2596e",
   "metadata": {},
   "source": [
    "## A1_a)"
   ]
  },
  {
   "cell_type": "code",
   "execution_count": 13,
   "id": "b03578c9-874c-489a-b72a-498b14a18215",
   "metadata": {},
   "outputs": [
    {
     "name": "stdout",
     "output_type": "stream",
     "text": [
      "Summation Output: 36.248\n"
     ]
    }
   ],
   "source": [
    "def summation(inputs, weights, bias):\n",
    "    return sum(i * w for i, w in zip(inputs, weights)) + bias\n",
    "\n",
    "# Example: Using first row of dataset for inputs\n",
    "weights = [0.2, -0.5, 0.3]  # Example weights\n",
    "bias = 1.0  # Example bias\n",
    "inputs = data[['radius_mean', 'texture_mean', 'perimeter_mean']].iloc[0].values\n",
    "output = summation(inputs, weights, bias)\n",
    "print(f\"Summation Output: {output}\")\n"
   ]
  },
  {
   "cell_type": "markdown",
   "id": "beff60ac-c303-4bfa-aad0-8185be6e84f4",
   "metadata": {},
   "source": [
    "## A1_b)"
   ]
  },
  {
   "cell_type": "code",
   "execution_count": 14,
   "id": "f7700369-9131-461b-a8a9-21900ac4cd72",
   "metadata": {},
   "outputs": [
    {
     "name": "stdout",
     "output_type": "stream",
     "text": [
      "Step Activation Output: 1\n",
      "Bipolar step Activation Output: 1\n",
      "Sigmoid Activation Output: 0.9999999999999998\n",
      "Tanh Activation Output: 1.0\n",
      "Relu Activation Output: 36.248\n",
      "Leaky Relu Activation Output: 36.248\n"
     ]
    }
   ],
   "source": [
    "import math\n",
    "\n",
    "# Step Function\n",
    "def step_function(x):\n",
    "    return 1 if x >= 0 else 0\n",
    "\n",
    "# Bipolar Step Function\n",
    "def bipolar_step_function(x):\n",
    "    return 1 if x >= 0 else -1\n",
    "\n",
    "# Sigmoid Function\n",
    "def sigmoid(x):\n",
    "    return 1 / (1 + math.exp(-x))\n",
    "\n",
    "# TanH Function\n",
    "def tanh(x):\n",
    "    return math.tanh(x)\n",
    "\n",
    "# ReLU Function\n",
    "def relu(x):\n",
    "    return max(0, x)\n",
    "\n",
    "# Leaky ReLU Function\n",
    "def leaky_relu(x, alpha=0.01):\n",
    "    return x if x >= 0 else alpha * x\n",
    "\n",
    "# Test activation functions using the summation result\n",
    "activation_step_function = step_function(output)\n",
    "print(f\"Step Activation Output: {activation_step_function}\")\n",
    "\n",
    "activation_bipolar_step_function = bipolar_step_function(output)\n",
    "print(f\"Bipolar step Activation Output: {activation_bipolar_step_function}\")\n",
    "\n",
    "activation_sigmoid = sigmoid(output)\n",
    "print(f\"Sigmoid Activation Output: {activation_sigmoid}\")\n",
    "\n",
    "activation_tanh = tanh(output)\n",
    "print(f\"Tanh Activation Output: {activation_tanh}\")\n",
    "\n",
    "activation_relu = relu(output)\n",
    "print(f\"Relu Activation Output: {activation_relu}\")\n",
    "\n",
    "activation_leaky_relu = leaky_relu(output)\n",
    "print(f\"Leaky Relu Activation Output: {activation_leaky_relu}\")\n",
    "\n"
   ]
  },
  {
   "cell_type": "markdown",
   "id": "6ed63b6b-df1a-4ca3-b0c4-7c66a0d42ab3",
   "metadata": {},
   "source": [
    "## A1_c)"
   ]
  },
  {
   "cell_type": "code",
   "execution_count": 15,
   "id": "28090cdb-ad3e-4719-bac3-1a590854df5f",
   "metadata": {},
   "outputs": [
    {
     "name": "stdout",
     "output_type": "stream",
     "text": [
      "Error: 0\n"
     ]
    }
   ],
   "source": [
    "# Comparator for Error Calculation\n",
    "def comparator(predicted, actual):\n",
    "    return actual - predicted\n",
    "\n",
    "# Example: Target = 1 (for Malignant)\n",
    "actual = 1  # Example target for Malignant\n",
    "predicted = step_function(output)\n",
    "error = comparator(predicted, actual)\n",
    "print(f\"Error: {error}\")\n"
   ]
  },
  {
   "cell_type": "markdown",
   "id": "6fc813a7-f424-40ec-94a2-727351344340",
   "metadata": {},
   "source": [
    "## A2"
   ]
  },
  {
   "cell_type": "code",
   "execution_count": 16,
   "id": "af47d521-c165-46e0-a7c5-a8cb97e3c262",
   "metadata": {},
   "outputs": [
    {
     "name": "stdout",
     "output_type": "stream",
     "text": [
      "Weights: [0.1000000000000001, 0.05000000000000032], Bias: -0.10000000000000765, Epochs to Converge: 129\n"
     ]
    }
   ],
   "source": [
    "# AND Gate Logic Example\n",
    "def perceptron_and(inputs, weights, bias, learning_rate=0.05, epochs=1000):\n",
    "    for epoch in range(epochs):\n",
    "        total_error = 0\n",
    "        for i in range(len(inputs)):\n",
    "            summation_output = summation(inputs[i], weights, bias)\n",
    "            predicted = step_function(summation_output)\n",
    "            error = comparator(predicted, inputs[i][-1])\n",
    "            total_error += error**2\n",
    "            # Update weights and bias\n",
    "            for j in range(len(weights)):\n",
    "                weights[j] += learning_rate * error * inputs[i][j]\n",
    "            bias += learning_rate * error\n",
    "        if total_error <= 0.002:  # Convergence criteria\n",
    "            break\n",
    "    return weights, bias, epoch\n",
    "\n",
    "# AND gate inputs\n",
    "and_gate_inputs = [[0, 0, 0], [0, 1, 0], [1, 0, 0], [1, 1, 1]]\n",
    "weights = [0.2, -0.75]  # Initial weights\n",
    "bias = 10  # Initial bias\n",
    "\n",
    "weights, bias, epochs_to_converge = perceptron_and(and_gate_inputs, weights, bias)\n",
    "print(f\"Weights: {weights}, Bias: {bias}, Epochs to Converge: {epochs_to_converge}\")\n"
   ]
  },
  {
   "cell_type": "markdown",
   "id": "209cbfa6-59f2-4022-b587-588e4174f018",
   "metadata": {},
   "source": [
    "## A3\n"
   ]
  },
  {
   "cell_type": "code",
   "execution_count": 17,
   "id": "a6e5e069-135f-41b1-b17e-ebc1df269455",
   "metadata": {},
   "outputs": [
    {
     "name": "stdout",
     "output_type": "stream",
     "text": [
      "Activation: step_function, Weights: [0.1000000000000001, 0.05000000000000032], Bias: -0.10000000000000765, Epochs: 129\n",
      "Activation: bipolar_step_function, Weights: [0.1000000000000001, 0.05000000000000032], Bias: -0.10000000000000765, Epochs: 999\n",
      "Activation: sigmoid, Weights: [4.269513023364578, 4.263876593860676], Bias: -6.58132321326526, Epochs: 999\n",
      "Activation: relu, Weights: [3.964458104504183, 3.9588216750002814], Bias: -6.886378132125656, Epochs: 19\n"
     ]
    }
   ],
   "source": [
    "# Repeat A1 with different activation functions and compare convergence times\n",
    "\n",
    "def perceptron_with_activation(inputs, weights, bias, activation_func, learning_rate=0.05, epochs=1000):\n",
    "    for epoch in range(epochs):\n",
    "        total_error = 0\n",
    "        for i in range(len(inputs)):\n",
    "            summation_output = summation(inputs[i], weights, bias)\n",
    "            predicted = activation_func(summation_output)\n",
    "            error = comparator(predicted, inputs[i][-1])\n",
    "            total_error += error**2\n",
    "            # Update weights and bias\n",
    "            for j in range(len(weights)):\n",
    "                weights[j] += learning_rate * error * inputs[i][j]\n",
    "            bias += learning_rate * error\n",
    "        if total_error <= 0.002:  # Convergence criteria\n",
    "            break\n",
    "    return weights, bias, epoch\n",
    "\n",
    "# Activation Functions for AND gate\n",
    "weights = [0.2, -0.75]\n",
    "bias = 10\n",
    "learning_rate = 0.05\n",
    "\n",
    "for activation in [step_function, bipolar_step_function, sigmoid, relu]:\n",
    "    weights, bias, epochs = perceptron_with_activation(and_gate_inputs, weights, bias, activation, learning_rate)\n",
    "    print(f\"Activation: {activation.__name__}, Weights: {weights}, Bias: {bias}, Epochs: {epochs}\")\n"
   ]
  },
  {
   "cell_type": "markdown",
   "id": "44e68541-a747-4354-88d8-5a6265d6cd59",
   "metadata": {},
   "source": [
    "## A4"
   ]
  },
  {
   "cell_type": "code",
   "execution_count": 18,
   "id": "24af85fa-6322-45c3-8c5b-b7ae741157ff",
   "metadata": {},
   "outputs": [
    {
     "data": {
      "image/png": "[encoded data removed]",
      "text/plain": [
       "<Figure size 640x480 with 1 Axes>"
      ]
     },
     "metadata": {},
     "output_type": "display_data"
    }
   ],
   "source": [
    "# Varying Learning Rate\n",
    "learning_rates = [0.1 * i for i in range(1, 11)]\n",
    "epochs_required = []\n",
    "\n",
    "for lr in learning_rates:\n",
    "    weights = [0.2, -0.75]\n",
    "    bias = 10\n",
    "    _, _, epochs = perceptron_and(and_gate_inputs, weights, bias, learning_rate=lr)\n",
    "    epochs_required.append(epochs)\n",
    "\n",
    "# Plot the learning rate vs epochs to converge\n",
    "import matplotlib.pyplot as plt\n",
    "\n",
    "plt.plot(learning_rates, epochs_required)\n",
    "plt.xlabel('Learning Rate')\n",
    "plt.ylabel('Epochs to Converge')\n",
    "plt.title('Learning Rate vs Epochs to Converge for AND Gate')\n",
    "plt.show()\n"
   ]
  },
  {
   "cell_type": "markdown",
   "id": "126dfaef-722c-44d2-9209-f696a2c1312d",
   "metadata": {},
   "source": [
    "## A5"
   ]
  },
  {
   "cell_type": "code",
   "execution_count": 68,
   "id": "12817610-39f6-42df-a2eb-a63063b003ac",
   "metadata": {},
   "outputs": [
    {
     "name": "stdout",
     "output_type": "stream",
     "text": [
      "Weights: [-0.1000000000000003, -0.10000000000000052], Bias: 0.09999999999999236, Epochs to Converge for XOR: 999\n"
     ]
    }
   ],
   "source": [
    "# XOR Gate Inputs\n",
    "xor_gate_inputs = [[0, 0, 0], [0, 1, 1], [1, 0, 1], [1, 1, 0]]\n",
    "\n",
    "# Repeat A1 for XOR gate\n",
    "weights, bias, epochs_to_converge = perceptron_and(xor_gate_inputs, weights, bias)\n",
    "print(f\"Weights: {weights}, Bias: {bias}, Epochs to Converge for XOR: {epochs_to_converge}\")\n"
   ]
  },
  {
   "cell_type": "markdown",
   "id": "31bb9f5f-ba70-42d6-a1a5-99b0f922120a",
   "metadata": {},
   "source": [
    "## A6"
   ]
  },
  {
   "cell_type": "code",
   "execution_count": 19,
   "id": "1415163f-ac43-444e-b6e2-d7adea78079b",
   "metadata": {},
   "outputs": [
    {
     "name": "stdout",
     "output_type": "stream",
     "text": [
      "Final Weights: [-1.33365352  8.84340193 -0.22341645], Final Bias: 0.7969978472159969, Epochs to Converge: 128\n"
     ]
    }
   ],
   "source": [
    "import numpy as np\n",
    "\n",
    "# Sigmoid activation function\n",
    "def sigmoid(x):\n",
    "    return 1 / (1 + np.exp(-x))\n",
    "\n",
    "# Derivative of the sigmoid function\n",
    "def sigmoid_derivative(x):\n",
    "    return x * (1 - x)\n",
    "\n",
    "# Perceptron training with sigmoid activation\n",
    "def perceptron_with_activation(data, weights, bias, activation_func, learning_rate=0.05, epochs=1000):\n",
    "    for epoch in range(epochs):\n",
    "        total_error = 0\n",
    "        for record in data:\n",
    "            # Inputs are the first 3 values, output is the last value in the customer data\n",
    "            inputs = np.array(record[:-1])  # Select first 3 columns (input features)\n",
    "            actual_output = record[-1]      # Last column (target output)\n",
    "            \n",
    "            # Calculate weighted sum\n",
    "            weighted_sum = np.dot(inputs, weights) + bias\n",
    "            predicted_output = activation_func(weighted_sum)\n",
    "            \n",
    "            # Calculate error\n",
    "            error = actual_output - predicted_output\n",
    "            total_error += error**2\n",
    "            \n",
    "            # Update weights and bias using the error\n",
    "            weights += learning_rate * error * inputs\n",
    "            bias += learning_rate * error\n",
    "        \n",
    "        # Stop early if error is below a threshold\n",
    "        if total_error <= 0.002:\n",
    "            break\n",
    "\n",
    "    return weights, bias, epoch + 1\n",
    "\n",
    "# Customer transaction data with input features and target output\n",
    "customer_data = [\n",
    "    [20, 6, 2, 1], [16, 3, 6, 1], [27, 6, 2, 1], [19, 1, 2, 0], [24, 4, 2, 1],\n",
    "    [22, 1, 5, 0], [15, 4, 2, 1], [18, 4, 2, 1], [21, 1, 4, 0], [16, 2, 4, 0]\n",
    "]\n",
    "\n",
    "# Initialize weights and bias\n",
    "weights = np.array([0.1, 0.2, -0.3])  # Example initial weights\n",
    "bias = 1.0  # Example initial bias\n",
    "\n",
    "# Train the perceptron using sigmoid activation\n",
    "final_weights, final_bias, epochs = perceptron_with_activation(customer_data, weights, bias, sigmoid, learning_rate=0.05)\n",
    "\n",
    "print(f\"Final Weights: {final_weights}, Final Bias: {final_bias}, Epochs to Converge: {epochs}\")\n"
   ]
  },
  {
   "cell_type": "markdown",
   "id": "48f1d339-dba8-4095-953e-e9adc88721ac",
   "metadata": {},
   "source": [
    "## A7"
   ]
  },
  {
   "cell_type": "code",
   "execution_count": 10,
   "id": "904825f3-23f7-4788-862f-476a805921a1",
   "metadata": {},
   "outputs": [
    {
     "name": "stdout",
     "output_type": "stream",
     "text": [
      "Weights using pseudo-inverse: [-0.0196597   0.26431172  0.04554979]\n"
     ]
    }
   ],
   "source": [
    "inputs = np.array([[20, 6, 2], [16, 3, 6], [27, 6, 2], [19, 1, 2], [24, 4, 2], [22, 1, 5], [15, 4, 2], [18, 4, 2], [21, 1, 4], [16, 2, 4]])\n",
    "outputs = np.array([1, 1, 1, 0, 1, 0, 1, 1, 0, 0])  # Converted to 0/1 from Yes/No\n",
    "\n",
    "pseudo_inverse = np.linalg.pinv(inputs)\n",
    "weights_pseudo = np.dot(pseudo_inverse, outputs)\n",
    "\n",
    "print(\"Weights using pseudo-inverse:\", weights_pseudo)\n"
   ]
  },
  {
   "cell_type": "markdown",
   "id": "fcf28384-84f2-4418-8f3d-f0551d91b65b",
   "metadata": {},
   "source": [
    "## A8"
   ]
  },
  {
   "cell_type": "code",
   "execution_count": 8,
   "id": "14b2665b-aba4-4dfb-bbe3-9cb5f6e66de8",
   "metadata": {},
   "outputs": [
    {
     "name": "stdout",
     "output_type": "stream",
     "text": [
      "Weights (input to hidden): [[0.35426245 0.8739027 ]\n",
      " [0.70801885 0.5542541 ]]\n",
      "Weights (hidden to output): [[ 0.27351534]\n",
      " [-0.2888641 ]]\n",
      "Bias (hidden): [[0.09929775 1.15169996]]\n",
      "Bias (output): [[-0.94380849]]\n",
      "Epochs to converge: 999\n",
      "Final Output: [[0.26508702]\n",
      " [0.26909255]\n",
      " [0.26273347]\n",
      " [0.26811816]]\n"
     ]
    }
   ],
   "source": [
    "import numpy as np\n",
    "\n",
    "# Sigmoid activation and its derivative\n",
    "def sigmoid(x):\n",
    "    return 1 / (1 + np.exp(-x))\n",
    "\n",
    "def sigmoid_derivative(x):\n",
    "    return x * (1 - x)\n",
    "\n",
    "# AND gate inputs and outputs\n",
    "X = np.array([[0, 0], [0, 1], [1, 0], [1, 1]])  # Inputs\n",
    "y = np.array([[0], [0], [0], [1]])  # AND gate outputs\n",
    "\n",
    "# Initialize weights and bias for 2-layer neural network\n",
    "input_layer_neurons = X.shape[1]  # 2 inputs\n",
    "hidden_layer_neurons = 2  # 2 neurons in hidden layer\n",
    "output_neurons = 1  # 1 output (AND gate result)\n",
    "\n",
    "# Weights initialization\n",
    "np.random.seed(42)\n",
    "weights_input_hidden = np.random.uniform(size=(input_layer_neurons, hidden_layer_neurons))\n",
    "weights_hidden_output = np.random.uniform(size=(hidden_layer_neurons, output_neurons))\n",
    "bias_hidden = np.random.uniform(size=(1, hidden_layer_neurons))\n",
    "bias_output = np.random.uniform(size=(1, output_neurons))\n",
    "\n",
    "# Set learning rate and epochs\n",
    "learning_rate = 0.05\n",
    "epochs = 1000\n",
    "\n",
    "# Training the neural network\n",
    "for epoch in range(epochs):\n",
    "    # Forward propagation\n",
    "    hidden_layer_activation = np.dot(X, weights_input_hidden) + bias_hidden\n",
    "    hidden_layer_output = sigmoid(hidden_layer_activation)\n",
    "    \n",
    "    output_layer_activation = np.dot(hidden_layer_output, weights_hidden_output) + bias_output\n",
    "    predicted_output = sigmoid(output_layer_activation)\n",
    "    \n",
    "    # Calculate error (mean squared error)\n",
    "    error = y - predicted_output\n",
    "    \n",
    "    # Backpropagation\n",
    "    # Output layer\n",
    "    d_predicted_output = error * sigmoid_derivative(predicted_output)\n",
    "    \n",
    "    # Hidden layer\n",
    "    error_hidden_layer = d_predicted_output.dot(weights_hidden_output.T)\n",
    "    d_hidden_layer = error_hidden_layer * sigmoid_derivative(hidden_layer_output)\n",
    "    \n",
    "    # Updating weights and biases\n",
    "    weights_hidden_output += hidden_layer_output.T.dot(d_predicted_output) * learning_rate\n",
    "    bias_output += np.sum(d_predicted_output, axis=0, keepdims=True) * learning_rate\n",
    "    \n",
    "    weights_input_hidden += X.T.dot(d_hidden_layer) * learning_rate\n",
    "    bias_hidden += np.sum(d_hidden_layer, axis=0, keepdims=True) * learning_rate\n",
    "\n",
    "    # Stop if error is less than 0.002\n",
    "    if np.mean(np.square(error)) < 0.002:\n",
    "        break\n",
    "\n",
    "print(f\"Weights (input to hidden): {weights_input_hidden}\")\n",
    "print(f\"Weights (hidden to output): {weights_hidden_output}\")\n",
    "print(f\"Bias (hidden): {bias_hidden}\")\n",
    "print(f\"Bias (output): {bias_output}\")\n",
    "print(f\"Epochs to converge: {epoch}\")\n",
    "print(f\"Final Output: {predicted_output}\")\n"
   ]
  },
  {
   "cell_type": "markdown",
   "id": "19a3212b-09ed-4321-a9fc-295b3d613dd5",
   "metadata": {},
   "source": [
    "## A9"
   ]
  },
  {
   "cell_type": "code",
   "execution_count": 7,
   "id": "f8721fff-8111-4e87-81c1-60b3fd43398c",
   "metadata": {},
   "outputs": [
    {
     "name": "stdout",
     "output_type": "stream",
     "text": [
      "Weights: [[-1.78388314  1.89268966]\n",
      " [-1.79631178  1.87846402]]\n",
      "Bias: [ 2.84487762 -2.98237526]\n",
      "Converged in epoch: 999\n"
     ]
    }
   ],
   "source": [
    "import numpy as np\n",
    "\n",
    "# Sigmoid Activation and Derivative\n",
    "def sigmoid(x):\n",
    "    return 1 / (1 + np.exp(-x))\n",
    "\n",
    "def sigmoid_derivative(x):\n",
    "    return x * (1 - x)\n",
    "\n",
    "# Perceptron with Two Output Nodes for Logic Gates\n",
    "def perceptron_two_outputs(inputs, outputs, learning_rate, epochs=1000):\n",
    "    np.random.seed(1)\n",
    "    weights = np.random.rand(2, 2)  # Two output nodes, so weight matrix is 2x2\n",
    "    bias = np.random.rand(2)\n",
    "    \n",
    "    for epoch in range(epochs):\n",
    "        z = np.dot(inputs, weights) + bias\n",
    "        predictions = sigmoid(z)\n",
    "        \n",
    "        # Calculate error\n",
    "        error = outputs - predictions\n",
    "        \n",
    "        # Backpropagation\n",
    "        d_predicted = error * sigmoid_derivative(predictions)\n",
    "        weights += np.dot(inputs.T, d_predicted) * learning_rate\n",
    "        bias += np.sum(d_predicted, axis=0) * learning_rate\n",
    "        \n",
    "        if np.mean(np.abs(error)) <= 0.002:\n",
    "            break\n",
    "    \n",
    "    return weights, bias, epoch\n",
    "\n",
    "# Inputs and Outputs for AND Gate with Two Output Nodes\n",
    "inputs = np.array([[0, 0], [0, 1], [1, 0], [1, 1]])\n",
    "outputs = np.array([[1, 0], [1, 0], [1, 0], [0, 1]])  # [1, 0] for 0 output, [0, 1] for 1 output\n",
    "learning_rate = 0.05\n",
    "\n",
    "weights, bias, final_epoch = perceptron_two_outputs(inputs, outputs, learning_rate)\n",
    "print(\"Weights:\", weights)\n",
    "print(\"Bias:\", bias)\n",
    "print(\"Converged in epoch:\", final_epoch)\n"
   ]
  },
  {
   "cell_type": "markdown",
   "id": "bb1bd9b5-3d22-47df-8529-3bd80e28521c",
   "metadata": {},
   "source": [
    "## A10"
   ]
  },
  {
   "cell_type": "code",
   "execution_count": 4,
   "id": "e80b20c5-a2b3-4c26-a300-c6abbe5d3435",
   "metadata": {},
   "outputs": [
    {
     "name": "stdout",
     "output_type": "stream",
     "text": [
      "Input Weights: [[3.46802747 5.71076458]\n",
      " [3.44935246 5.61023422]]\n",
      "Hidden Weights: [[-7.65614125]\n",
      " [ 7.04468282]]\n",
      "Bias Hidden: [-5.2847457  -2.30318682]\n",
      "Bias Output: [-3.14245311]\n",
      "Converged in epoch: 9999\n"
     ]
    }
   ],
   "source": [
    "import numpy as np\n",
    "\n",
    "# Sigmoid Activation and Derivative\n",
    "def sigmoid(x):\n",
    "    return 1 / (1 + np.exp(-x))\n",
    "\n",
    "def sigmoid_derivative(x):\n",
    "    return x * (1 - x)\n",
    "\n",
    "# XOR Gate Neural Network with One Hidden Layer\n",
    "def neural_network_xor_gate(inputs, outputs, learning_rate, epochs=10000):\n",
    "    np.random.seed(1)\n",
    "    \n",
    "    # Initialize weights for input to hidden and hidden to output\n",
    "    input_weights = np.random.rand(2, 2)\n",
    "    hidden_weights = np.random.rand(2, 1)\n",
    "    \n",
    "    bias_hidden = np.random.rand(2)\n",
    "    bias_output = np.random.rand(1)\n",
    "    \n",
    "    for epoch in range(epochs):\n",
    "        # Forward pass\n",
    "        hidden_layer_input = np.dot(inputs, input_weights) + bias_hidden\n",
    "        hidden_layer_output = sigmoid(hidden_layer_input)\n",
    "        \n",
    "        output_layer_input = np.dot(hidden_layer_output, hidden_weights) + bias_output\n",
    "        predictions = sigmoid(output_layer_input)\n",
    "        \n",
    "        # Calculate error\n",
    "        error = outputs - predictions\n",
    "        \n",
    "        # Backpropagation\n",
    "        d_output = error * sigmoid_derivative(predictions)\n",
    "        error_hidden = d_output.dot(hidden_weights.T)\n",
    "        d_hidden = error_hidden * sigmoid_derivative(hidden_layer_output)\n",
    "        \n",
    "        # Update weights and biases\n",
    "        hidden_weights += hidden_layer_output.T.dot(d_output) * learning_rate\n",
    "        input_weights += inputs.T.dot(d_hidden) * learning_rate\n",
    "        bias_output += np.sum(d_output) * learning_rate\n",
    "        bias_hidden += np.sum(d_hidden, axis=0) * learning_rate\n",
    "        \n",
    "        if np.mean(np.abs(error)) <= 0.002:\n",
    "            break\n",
    "    \n",
    "    return input_weights, hidden_weights, bias_hidden, bias_output, epoch\n",
    "\n",
    "# Inputs and Outputs for XOR Gate\n",
    "inputs = np.array([[0, 0], [0, 1], [1, 0], [1, 1]])\n",
    "outputs = np.array([[0], [1], [1], [0]])  # XOR Gate Output\n",
    "learning_rate = 0.1\n",
    "\n",
    "input_weights, hidden_weights, bias_hidden, bias_output, final_epoch = neural_network_xor_gate(inputs, outputs, learning_rate)\n",
    "print(\"Input Weights:\", input_weights)\n",
    "print(\"Hidden Weights:\", hidden_weights)\n",
    "print(\"Bias Hidden:\", bias_hidden)\n",
    "print(\"Bias Output:\", bias_output)\n",
    "print(\"Converged in epoch:\", final_epoch)\n"
   ]
  },
  {
   "cell_type": "markdown",
   "id": "130bdd5c-d4ef-4edc-ab42-3467212389ec",
   "metadata": {},
   "source": [
    "## A11"
   ]
  },
  {
   "cell_type": "code",
   "execution_count": 2,
   "id": "262e760c-14d8-4937-922a-c08ae29b693f",
   "metadata": {},
   "outputs": [
    {
     "name": "stdout",
     "output_type": "stream",
     "text": [
      "AND Gate Predictions: [0 0 0 0]\n",
      "Accuracy for AND Gate: 0.75\n",
      "XOR Gate Predictions: [0 0 0 0]\n",
      "Accuracy for XOR Gate: 0.5\n"
     ]
    },
    {
     "name": "stderr",
     "output_type": "stream",
     "text": [
      "C:\\Users\\Vedha Pranava\\AppData\\Local\\Programs\\Python\\Python312\\Lib\\site-packages\\sklearn\\neural_network\\_multilayer_perceptron.py:690: ConvergenceWarning: Stochastic Optimizer: Maximum iterations (1000) reached and the optimization hasn't converged yet.\n",
      "  warnings.warn(\n"
     ]
    }
   ],
   "source": [
    "from sklearn.neural_network import MLPClassifier\n",
    "from sklearn.metrics import accuracy_score\n",
    "\n",
    "# AND gate inputs and outputs\n",
    "X_and = np.array([[0, 0], [0, 1], [1, 0], [1, 1]])\n",
    "y_and = np.array([0, 0, 0, 1])  # AND gate outputs\n",
    "\n",
    "# XOR gate inputs and outputs\n",
    "X_xor = np.array([[0, 0], [0, 1], [1, 0], [1, 1]])\n",
    "y_xor = np.array([0, 1, 1, 0])  # XOR gate outputs\n",
    "\n",
    "# MLPClassifier for AND gate\n",
    "mlp_and = MLPClassifier(hidden_layer_sizes=(2,), activation='logistic', max_iter=1000)\n",
    "mlp_and.fit(X_and, y_and)\n",
    "y_and_pred = mlp_and.predict(X_and)\n",
    "print(f\"AND Gate Predictions: {y_and_pred}\")\n",
    "print(f\"Accuracy for AND Gate: {accuracy_score(y_and, y_and_pred)}\")\n",
    "\n",
    "# MLPClassifier for XOR gate\n",
    "mlp_xor = MLPClassifier(hidden_layer_sizes=(2,), activation='logistic', max_iter=1000)\n",
    "mlp_xor.fit(X_xor, y_xor)\n",
    "y_xor_pred = mlp_xor.predict(X_xor)\n",
    "print(f\"XOR Gate Predictions: {y_xor_pred}\")\n",
    "print(f\"Accuracy for XOR Gate: {accuracy_score(y_xor, y_xor_pred)}\")\n"
   ]
  },
  {
   "cell_type": "markdown",
   "id": "f85bdad2-99de-4ebf-85b3-91b6993d2232",
   "metadata": {},
   "source": [
    "## A12"
   ]
  },
  {
   "cell_type": "code",
   "execution_count": 1,
   "id": "0dfdef38-dce9-48a6-bde9-5d6b27061b5d",
   "metadata": {},
   "outputs": [
    {
     "name": "stdout",
     "output_type": "stream",
     "text": [
      "Dataset Columns: Index(['id', 'diagnosis', 'radius_mean', 'texture_mean', 'perimeter_mean',\n",
      "       'area_mean', 'smoothness_mean', 'compactness_mean', 'concavity_mean',\n",
      "       'concave points_mean', 'symmetry_mean', 'fractal_dimension_mean',\n",
      "       'radius_se', 'texture_se', 'perimeter_se', 'area_se', 'smoothness_se',\n",
      "       'compactness_se', 'concavity_se', 'concave points_se', 'symmetry_se',\n",
      "       'fractal_dimension_se', 'radius_worst', 'texture_worst',\n",
      "       'perimeter_worst', 'area_worst', 'smoothness_worst',\n",
      "       'compactness_worst', 'concavity_worst', 'concave points_worst',\n",
      "       'symmetry_worst', 'fractal_dimension_worst', 'Unnamed: 32'],\n",
      "      dtype='object')\n",
      "Test Predictions: [0 1 1 0 0 1 1 1 1 0 0 1 0 1 0 0 0 0 0 1 0 0 1 0 0 0 0 0 0 1 0 0 0 0 0 0 0\n",
      " 0 1 0 0 1 0 0 0 0 0 0 0 0 1 1 0 0 0 0 0 1 1 0 0 1 1 0 0 0 1 1 0 0 1 1 0 1\n",
      " 0 0 0 0 0 0 0 0 0 1 0 1 1 1 0 0 0 0 0 0 0 0 1 1 0 1 0 0 1 1 0 0 0 1 0 0 1\n",
      " 0 0 1]\n",
      "True Labels: [0 1 1 0 0 1 1 1 0 0 0 1 0 1 0 1 0 0 0 1 1 0 1 0 0 0 0 0 0 1 0 0 0 0 0 0 1\n",
      " 0 1 0 0 1 0 0 0 0 0 0 0 0 1 1 0 0 0 0 0 1 1 0 0 1 1 0 0 0 1 1 0 0 1 1 0 1\n",
      " 0 0 0 1 0 0 1 0 1 1 1 1 1 1 0 0 0 0 0 0 0 0 1 1 0 1 1 0 1 1 0 0 0 1 0 0 1\n",
      " 0 0 1]\n",
      "Model Accuracy: 92.11%\n"
     ]
    },
    {
     "name": "stderr",
     "output_type": "stream",
     "text": [
      "C:\\Users\\Vedha Pranava\\AppData\\Local\\Programs\\Python\\Python312\\Lib\\site-packages\\sklearn\\neural_network\\_multilayer_perceptron.py:690: ConvergenceWarning: Stochastic Optimizer: Maximum iterations (1000) reached and the optimization hasn't converged yet.\n",
      "  warnings.warn(\n"
     ]
    }
   ],
   "source": [
    "import pandas as pd\n",
    "import numpy as np\n",
    "from sklearn.neural_network import MLPClassifier\n",
    "from sklearn.model_selection import train_test_split\n",
    "from sklearn.metrics import accuracy_score\n",
    "\n",
    "# Load your dataset (replace the file path with your actual dataset path)\n",
    "file_path = \"C:\\\\Users\\\\Vedha Pranava\\\\Desktop\\\\Breast-Cancer-Detection-master\\\\data.csv\"\n",
    "data = pd.read_csv(file_path)\n",
    "\n",
    "# Display the columns to help you identify the feature columns and the target column\n",
    "print(\"Dataset Columns:\", data.columns)\n",
    "\n",
    "# Let's assume these columns as features (replace them with actual column names from your dataset)\n",
    "# Select the features (input columns)\n",
    "features = ['radius_se', 'concavity_se', 'concavity_worst']  # Adjust these column names based on your dataset\n",
    "\n",
    "# Select the target column (the output you want to predict)\n",
    "# For example, let's assume 'diagnosis' is the target column (change this if needed)\n",
    "target = 'diagnosis'  # Adjust this column name based on your dataset\n",
    "\n",
    "# Convert the target column into binary values if necessary (e.g., 'M' = 1, 'B' = 0)\n",
    "data[target] = np.where(data[target] == 'M', 1, 0)\n",
    "\n",
    "# Features (X) and Labels (y)\n",
    "X = data[features]  # Input features\n",
    "y = data[target]    # Target output (1 for Malignant, 0 for Benign, or adjust as per your data)\n",
    "\n",
    "# Split the dataset into training and testing sets (80% training, 20% testing)\n",
    "X_train, X_test, y_train, y_test = train_test_split(X, y, test_size=0.2, random_state=42)\n",
    "\n",
    "# Initialize the MLPClassifier\n",
    "mlp = MLPClassifier(hidden_layer_sizes=(5,), activation='relu', max_iter=1000, random_state=42)\n",
    "\n",
    "# Train the model\n",
    "mlp.fit(X_train, y_train)\n",
    "\n",
    "# Make predictions on the test set\n",
    "y_pred = mlp.predict(X_test)\n",
    "\n",
    "# Calculate the accuracy of the model\n",
    "accuracy = accuracy_score(y_test, y_pred)\n",
    "\n",
    "# Display the results\n",
    "print(f\"Test Predictions: {y_pred}\")\n",
    "print(f\"True Labels: {y_test.values}\")\n",
    "print(f\"Model Accuracy: {accuracy * 100:.2f}%\")\n",
    "\n"
   ]
  }
 ],
 "metadata": {
  "kernelspec": {
   "display_name": "Python 3 (ipykernel)",
   "language": "python",
   "name": "python3"
  },
  "language_info": {
   "codemirror_mode": {
    "name": "ipython",
    "version": 3
   },
   "file_extension": ".py",
   "mimetype": "text/x-python",
   "name": "python",
   "nbconvert_exporter": "python",
   "pygments_lexer": "ipython3",
   "version": "3.12.4"
  }
 },
 "nbformat": 4,
 "nbformat_minor": 5
}
